{
 "cells": [
  {
   "cell_type": "markdown",
   "id": "468ebd94",
   "metadata": {},
   "source": [
    "<!-- Toogle google translation -->\n",
    "<div id=\"google_translate_element\"></div>\n",
    "\n",
    "<style>    \n",
    ".goog-te-gadget {\n",
    "  font-family: Roboto, \"Open Sans\", sans-serif !important;\n",
    "  text-transform: uppercase;\n",
    "}\n",
    ".goog-te-gadget-simple {\n",
    "  background-color: rgba(255, 255, 255, 0.2) !important;\n",
    "  border: 1px solid rgba(237, 230, 230, 0.5) !important;\n",
    "  padding: 8px !important;\n",
    "  border-radius: 4px !important;\n",
    "  font-size: 1rem !important;\n",
    "  line-height: 1rem !important;\n",
    "  display: inline-block;\n",
    "  cursor: pointer;\n",
    "  zoom: 1;\n",
    "}\n",
    "\n",
    ".goog-te-gadget-icon {\n",
    "  background-image: url(https://placehold.it/32) !important;\n",
    "  background-position: 0px 0px;\n",
    "  height: 0px !important;\n",
    "  width: 0px !important;\n",
    "  margin-right: 8px !important;\n",
    "  display: none;\n",
    "}\n",
    "\n",
    ".VIpgJd-ZVi9od-ORHb-OEVmcd {\n",
    "    display: none; // add !important if required \n",
    "  }\n",
    "    \n",
    ".goog-te-banner-frame.skiptranslate {\n",
    "    display: none !important;\n",
    "    } \n",
    "body {\n",
    "    top: 0px !important; \n",
    "    }\n",
    "</style>\n",
    "\n",
    "<script type=\"text/javascript\">\n",
    "      function googleTranslateElementInit() {\n",
    "        new google.translate.TranslateElement({ pageLanguage: 'en',\n",
    "                  includedLanguages: 'en,zh-CN,zh-TW,ja,ko,de,ru,fr,es,it,pt,hi,ar',\n",
    "layout: google.translate.TranslateElement.InlineLayout.SIMPLE }, 'google_translate_element');\n",
    "      }\n",
    "</script>\n",
    "<script type=\"text/javascript\"\n",
    "      src=\"https://translate.google.com/translate_a/element.js?cb=googleTranslateElementInit\"\n",
    "></script>\n",
    "<br>"
   ]
  },
  {
   "cell_type": "markdown",
   "id": "6ca50021",
   "metadata": {},
   "source": [
    "# Chapter 2\n",
    "\n",
    "## Defintion of convexity\n",
    "\n",
    "### Exercise 2.1\n",
    "\n",
    "Let $C \\subset \\mathbb{R}^n$ be a convex set, with $x_1, \\dots, x_k \\in C$, and let $\\theta_1, \\dots, \\theta_k \\in \\mathbb{R}$ satisfy $\\theta_i \\geq 0, \\theta_1 + \\dots + \\theta_k = 1$. Show that $\\theta_1x_1 + \\dots + \\theta_kx_k \\in C$. (The definition of convexity is that this holds for $k = 2$; you must show it for arbitrary $k$.) Hint. Use induction on $k$.\n",
    "\n",
    "---\n"
   ]
  },
  {
   "cell_type": "markdown",
   "id": "2700883b",
   "metadata": {},
   "source": [
    "**Solution:**\n",
    "\n",
    "*Proof.*\n",
    "\n",
    "When $k=2$, it is true by the definition of convex set. Assume it is true for $k-1$, now we prove for $k$. For the parameters $\\theta_1,\\dots,\\theta_{k}$, if $\\theta_1=\\dots=\\theta_{k-1}=0$, $\\theta_k=1$ and $\\theta_1x_1 + \\dots + \\theta_kx_k \\in C$. If $\\theta_1+\\dots+\\theta_{k-1}\\neq 0$\n",
    "\n",
    "$$\n",
    "\\theta_1x_1 + \\dots + \\theta_{k-1}x_{k-1}+\\theta_kx_k=(\\theta_1+\\dots+\\theta_{k-1})\\left[\\frac{\\theta_1}{\\theta_1+\\dots+\\theta_{k-1}}x_1+\\dots+\\frac{\\theta_{k-1}}{\\theta_1+\\dots+\\theta_{k-1}}x_{k-1}\\right]+\\theta_{k}x_k\n",
    "$$\n",
    "\n",
    "\n",
    "Because $\\frac{\\theta_1}{\\theta_1+\\dots+\\theta_{k-1}}+\\dots+\\frac{\\theta_{k-1}}{\\theta_1+\\dots+\\theta_{k-1}}=1$ and we assume the property is true for $k-1$, $\\frac{\\theta_1}{\\theta_1+\\dots+\\theta_{k-1}}x_1+\\dots+\\frac{\\theta_{k-1}}{\\theta_1+\\dots+\\theta_{k-1}}x_{k-1}\\in C$ and it is a point inside $C$. We can view the above formula as the convex combination of two points $x_k$ and $\\frac{\\theta_1}{\\theta_1+\\dots+\\theta_{k-1}}x_1+\\dots+\\frac{\\theta_{k-1}}{\\theta_1+\\dots+\\theta_{k-1}}x_{k-1}$, which is inside the convex set $C$."
   ]
  },
  {
   "cell_type": "markdown",
   "id": "22a5c5da",
   "metadata": {},
   "source": [
    "### Exercise 2.2\n",
    "\n",
    "Show that a set is convex if and only if its intersection with any line is convex. Show that a set is affine if and only if its intersection with any line is affine.\n",
    "\n",
    "---"
   ]
  },
  {
   "cell_type": "markdown",
   "id": "d80f271b",
   "metadata": {},
   "source": [
    "**Solution:**\n",
    "\n",
    "*Proof.*\n",
    "\n",
    "A line is a convex set, its intersection with another convex set is also convex. Conversely, suppose the intersection of a set with any line is convex, take any two distinctive points from the set, the intersection of the set with the line through the two points is convex. Therefore the convex combination of the two points belongs to the intersection and also belongs to the set. Hence the set is convex. The second part about affinity can be proved similarly."
   ]
  },
  {
   "cell_type": "markdown",
   "id": "792e14b2",
   "metadata": {},
   "source": [
    "### Exercise 2.3\n",
    "\n",
    "*Midpoint convexity*. A set $C$ is midpoint convex if whenever two points $a$, $b$ are in $C$, the average or midpoint $(a + b)/2$ is in $C$. Obviously a convex set is midpoint convex. It can be proved that under mild conditions midpoint convexity implies convexity. As a simple case, prove that if $C$ is closed and midpoint convex, then $C$ is convex.\n",
    "\n",
    "---"
   ]
  },
  {
   "cell_type": "markdown",
   "id": "7b2a437b",
   "metadata": {},
   "source": [
    "**Solution:**\n",
    "\n",
    "*Proof.*\n",
    "\n",
    "For a point $x$ which is the convex combinatin of $a$ and $b$, withou loss of generality, assume $x$ can be represented as:\n",
    "\n",
    "$$\n",
    "x=\\lambda a+(1-\\lambda)b,\n",
    "$$\n",
    "\n",
    "in which $\\lambda$ is a non-negative rational number. Now we formulate a sequence of $x_i$ (similar to binary search): when $i=0$, $a_0=a$, $b_0=b$, $x_0=(a+b)/2$; when $i>0$,\n",
    "\n",
    "$$\n",
    "a_i=\\begin{cases}\n",
    "x_{i-1}\\quad &x>x_{i-1}\\\\\n",
    "a_{i-1}\\quad &\\text{otherwise}\n",
    "\\end{cases}\n",
    "$$\n",
    "\n",
    "$$\n",
    "b_i=\\begin{cases}\n",
    "b_{i-1}\\quad &x>x_{i-1}\\\\\n",
    "x_{i-1}\\quad &\\text{otherwise}\n",
    "\\end{cases}\n",
    "$$\n",
    "\n",
    "and $x_i=(a_i+b_i)/2$. The sequence of $x_i$ moves closer and closer to $x$ as $i$ increases, i.e., $\\lim_{i\\rightarrow \\infty} x_i=x$. All the $x_i$ are in the set $C$ because of midpoint convexity. Since the set $C$ is close, it contains all its limit points. Hence, $\\lim_{i\\rightarrow \\infty} x_i=x \\in C$ and the convexity of $C$ is proved.\n",
    "\n",
    "$\\Box$"
   ]
  },
  {
   "cell_type": "markdown",
   "id": "b0276a72",
   "metadata": {},
   "source": [
    "```{note}\n",
    "- A set is closed if and only if it contains its limit points.\n",
    "- Rantional number set $\\mathbb{Q}$ is midpoint convex but it is not convex since it is not a closed set.\n",
    "\n",
    "```"
   ]
  },
  {
   "cell_type": "markdown",
   "id": "cc762ae0",
   "metadata": {},
   "source": [
    "### Exercise 2.4\n",
    "\n",
    "Show that the convex hull of a set $S$ is the intersection of all convex sets that contain $S$. (The same method can be used to show that the conic, or affine, or linear hull of a set $S$ is the intersection of all conic sets, or affine sets, or subspaces that contain $S$.)\n",
    "\n",
    "---"
   ]
  },
  {
   "cell_type": "markdown",
   "id": "3e0f4afa",
   "metadata": {},
   "source": [
    "**Solution:**\n",
    "\n",
    "*Proof.*\n",
    "\n",
    "Let $H$ be the convex hull of $S$ and $\\mathcal{D}$ be the intersection of all convex sets that contains $S$,i.e,\n",
    "\n",
    "$$\n",
    "\\mathcal{D}=\\bigcap\\{D\\text{ is convex}, S \\subseteq D\\}.\n",
    "$$\n",
    "\n",
    "In order to prove that $H=\\mathcal{D}$, we show that $H\\subseteq\\mathcal{D}$ and $\\mathcal{D}\\subseteq H$.\n",
    "\n",
    "Suppose $x$ is a point in $H$, i.e., $x$ is a convex combination of some points $x_1,\\dots,x_k$ in $S$:\n",
    "\n",
    "$$\n",
    "x=\\theta_1x_1+\\dots+\\theta_kx_k,\n",
    "$$\n",
    "\n",
    "in which $\\theta_1+\\dots+\\theta_k=1$ and $\\theta_i\\geq 0$ $(i=1,\\dots,k)$. Since any $D$ contains $S$, $x_1,\\dots,x_k$ must be in $D$. Since $D$ is convex, all the covex combinations of its points are also in $D$, i.e., $x\\in D$. Hence, any point in $H$ is also in any $D$. So, $H\\subseteq \\mathcal{D}$.\n",
    "\n",
    "Now we prove $\\mathcal{D}\\subseteq H$. Since $H$ is a one of the convex set that contains $S$ and $\\mathcal{D}$ is the intersection of all convex sets that contains $S$, obviously $\\mathcal{D}\\subseteq H$.\n",
    "\n",
    "Therefore, $H=\\mathcal{D}$.\n",
    "\n",
    "$\\Box$"
   ]
  },
  {
   "cell_type": "markdown",
   "id": "c7a3e983",
   "metadata": {},
   "source": [
    "```{note}\n",
    "- The conic hull is similar to the convex hull, but the parameters $\\theta_i$ are only required to be non-negative.\n",
    "- The linear hull (also called linear span) only requires the parameters $\\theta_i$ to be rational.\n",
    "```\n"
   ]
  },
  {
   "cell_type": "markdown",
   "id": "33136a2b",
   "metadata": {},
   "source": [
    "## Examples\n",
    "### Exercise 2.5\n",
    "\n",
    "What is the distance between two parallel hyperplanes $\\{x \\in \\mathbb{R}^n \\mid a^Tx = b_1\\}$ and $\\{x\\in\\mathbb{R}^n \\mid a^Tx = b_2\\}$?\n",
    "\n",
    "---"
   ]
  },
  {
   "cell_type": "markdown",
   "id": "f20b385f",
   "metadata": {},
   "source": [
    "**Solution:**\n",
    "\n",
    "The distance is $\\frac{|b_1-b_2|}{||a||}$. (it is a distance between two point $\\frac{b_1}{||a||^2}a$ and $\\frac{b_2}{||a||^2}a$)"
   ]
  },
  {
   "cell_type": "markdown",
   "id": "8802691b",
   "metadata": {},
   "source": [
    "```{note}\n",
    "- the intersection point of the line $a^Tx=b$ with its perpendicular line that though the origin is $\\frac{b}{||a||^2}a$.\n",
    "- the distance between the line $a^Tx=b$ and a point $x_0$ is $\\frac{|b-a^Tx_0|}{||a||}$\n",
    "- For the line $a^Tx=b$, its direction vector is $a$.\n",
    "```"
   ]
  },
  {
   "cell_type": "markdown",
   "id": "238570b8",
   "metadata": {},
   "source": [
    "### Exercise 2.6\n",
    "\n",
    "*When does one halfspace contain another?* Give conditions under which\n",
    "\n",
    "$$\n",
    "\\{x \\mid a^Tx \\geq b\\}\\subseteq \\{x\\mid \\tilde{a}^Tx\\geq \\tilde{b}\\}\n",
    "$$\n",
    "\n",
    "(where $a \\neq 0, \\tilde{a} \\neq 0$). Also find the conditions under which the two halfspaces are equal.\n",
    "\n",
    "---"
   ]
  },
  {
   "cell_type": "markdown",
   "id": "28228740",
   "metadata": {},
   "source": [
    "**Solution:**\n",
    "\n",
    "The conditions are:\n",
    "\n",
    "- if $\\frac{a}{||a||}=\\frac{\\tilde{a}}{||\\tilde{a}||}$ and $\\frac{b}{||a||}=\\frac{\\tilde{b}}{||\\tilde{a}||}$, then the two halfspaces are equal.\n",
    "\n",
    "- if $\\frac{a}{||a||}=\\frac{\\tilde{a}}{||\\tilde{a}||}$ and $\\frac{b}{||a||}\\geq\\frac{\\tilde{b}}{||\\tilde{a}||}$, then the latter halfspaces contains the first halfspace."
   ]
  },
  {
   "cell_type": "markdown",
   "id": "543cfbfc",
   "metadata": {},
   "source": [
    "### Exercise 2.7\n",
    "\n",
    "*Voronoi description of halfspace*. Let $a$ and $b$ be distinct points in $\\mathbb{R}^n$. Show that the set of all points that are closer (in Euclidean norm) to $a$ than $b$, i.e., $\\{x \\mid ||x−a||_2 \\leq ||x−b||_2\\}$, is a halfspace. Describe it explicitly as an inequality of the form $c^Tx\\leq d$. Draw a picture.\n",
    "\n",
    "---"
   ]
  },
  {
   "cell_type": "markdown",
   "id": "9acbcf00",
   "metadata": {},
   "source": [
    "**Solution:**\n",
    "\n",
    "Solution 1: the midpoint of $a$ and $b$ is $(a+b)/2$, the hyperplane that is orthogonal to the vector $b-a$ is:\n",
    "\n",
    "$$\n",
    "(b-a)^Tx=\\frac{(b-a)^T(b+a)}{2}=\\frac{b^Tb-a^Ta}{2}.\n",
    "$$\n",
    "\n",
    "So the halfspace is:\n",
    "\n",
    "$$\n",
    "(b-a)^Tx=\\frac{(b-a)^T(b+a)}{2}\\leq\\frac{b^Tb-a^Ta}{2}.\n",
    "$$\n",
    "\n",
    "Solution 2:\n",
    "\n",
    "$$\n",
    "\\begin{align}\n",
    "&||x−a||_2 \\leq ||x−b||_2\\\\\n",
    "\\Longleftrightarrow&~ (x-a)^T(x-a)\\leq (x-b)^T(x-b)\\\\\n",
    "\\Longleftrightarrow&~ x^Tx-2x^Ta+a^Ta\\leq x^Tx-2x^Tb+b^Tb\\\\\n",
    "\\Longleftrightarrow&~ 2(b-a)^Tx \\leq b^Tb-a^Ta\n",
    "\\end{align}\n",
    "$$"
   ]
  },
  {
   "cell_type": "markdown",
   "id": "f4448a16",
   "metadata": {},
   "source": [
    "### Exercise 2.8\n",
    "\n",
    "Which of the following sets $S$ are polyhedra? If possible, express $S$ in the form $S =\\{x \\mid Ax \\preceq b, F x = g\\}$.\n",
    "\n",
    "(a) $S = \\{y_1a_1 + y_2a_2 \\mid − 1 \\leq y_1 \\leq 1, − 1 \\leq y_2 \\leq 1\\}$, where $a_1,a_2 \\in\\mathbb{R}^n$.\n",
    "\n",
    "(b) $S =\\{x \\in \\mathbb{R}^n \\mid x \\succeq 0, \\mathbf{1}^Tx = 1, \\sum^n_{i=1}x_ia_i = b_1, \\sum^n_{i=1} x_ia^2_i = b_2\\}$, where\n",
    "$a_1, \\dots, a_n\\in \\mathbb{R}$ and $b_1, b_2 \\in \\mathbb{R}$.\n",
    "\n",
    "(c) $S = \\{x \\in \\mathbb{R}^n \\mid x \\succeq 0, x^Ty \\leq 1\\text{ for all }$y$\\text{ with }||y||_2 = 1\\}$.\n",
    "\n",
    "(d) $S = \\{x ∈ \\mathbb{R}^n \\mid x \\succeq 0, x^Ty \\leq 1\\text{ for all }$y$\\text{ with }\\sum_{i=1}^n |y_i| = 1\\}$.\n",
    "\n",
    "---"
   ]
  },
  {
   "cell_type": "markdown",
   "id": "4d00ffae",
   "metadata": {},
   "source": [
    "**Solution:**\n",
    "\n",
    "(a) $S$ is a polyhedron. It is actually a parallelogram in which the corner points are $a_1+a_2$, $a_1-a_2$, $-a_1+a_2$, $-a_1-a_2$.\n",
    "\n",
    "Below we use Python to draw the parallelogram in $\\mathbb{R}^2$, in which $c_1$ is orthogonal to $a_1$ and $c_2$ is orthogonal to $a_2$."
   ]
  },
  {
   "cell_type": "code",
   "execution_count": 1,
   "id": "7399391c",
   "metadata": {},
   "outputs": [
    {
     "data": {
      "image/png": "[encoded data removed]",
      "text/plain": [
       "<Figure size 640x480 with 1 Axes>"
      ]
     },
     "metadata": {},
     "output_type": "display_data"
    }
   ],
   "source": [
    "import matplotlib.pyplot as plt\n",
    "plt.rcParams.update({\"font.family\": \"serif\"})\n",
    "import matplotlib.patches as patches\n",
    "\n",
    "fig, ax = plt.subplots() \n",
    "\n",
    "plt.plot([9,13],[5,10],color='purple',alpha=0.5)\n",
    "plt.plot([6,13],[8,10],color='purple',alpha=0.5)\n",
    "plt.arrow(2, 3, 4, 5, color='r', width=0.06, length_includes_head = True) # a1\n",
    "plt.arrow(2, 3, 7, 2, color='r', width=0.06, length_includes_head = True) # a2\n",
    "\n",
    "\n",
    "plt.arrow(2,3,-1, 7/2, color= 'r', width=0.03)\n",
    "plt.arrow(2,3,-2, 8/5, color= 'r', width=0.03)\n",
    "\n",
    "\n",
    "ax.add_patch(patches.Polygon([[2,3], [6,8], [13, 10], [9,5]], fill=True, color='purple', alpha=0.5))\n",
    "\n",
    "plt.text(4, 6.5, r'$a_1$')\n",
    "plt.text(6, 3.5, r'$a_2$')\n",
    "plt.text(1.7, 5.5, r'$c_2$')\n",
    "plt.text(0.8, 3.2, r'$c_1$')\n",
    "# plt.text(6.8, 6, r'$S$')\n",
    "\n",
    "#plt.axis('off')\n",
    "plt.axis('equal')\n",
    "plt.show()"
   ]
  },
  {
   "cell_type": "markdown",
   "id": "2ae1ae8e",
   "metadata": {},
   "source": [
    "Now let us express $S$ by linear constraints. $S$ is an area that locates on the plane formulated by $a_1$ and $a_2$ and between the four edges of the parreleogram. Let represent each one by linear constraints.\n",
    "\n",
    "The plane formulated by $a_1$ and $a_2$. Let $v_i (i=1,\\dots, n-2)$ as the vectors that are orthogonal to $a_1$ and $a_2$ and are independent with each other. The plane can be expressed by the following constraints:\n",
    "\n",
    "$$\n",
    "v_ix=0,\\quad i=1,\\dots, n-2 \\tag(1)\n",
    "$$\n",
    "\n",
    "Next, we need additional constraints to express the paralleleogram in a plane. To do so, we first find two vectors that are orthogonal to $a_1$ and $a_2$, respectively. We can achieve this by Schmidt orthogonalization. $c_1$ is orthogonal to $a_1$:\n",
    "\n",
    "$$\n",
    "c_1=a_2-\\frac{a_1^Ta_2}{||a_1||^2} a_1\n",
    "$$\n",
    "\n",
    "$c_2$ is orthogonal to $a_2$:\n",
    "\n",
    "$$\n",
    "c_2=a_1-\\frac{a_2^Ta_1}{||a_2||^2} a_2\n",
    "$$\n",
    "\n",
    "According to the property of paralleogram, the points lying in the paralleogram should satisfy:\n",
    "\n",
    "$$\n",
    "\\begin{align}\n",
    "-|c_1^Ta_2|\\leq c_1^Tx\\leq |c_1^Ta_2|\\tag{2}\\\\\n",
    "-|c_2^Ta_1|\\leq c_2^Tx\\leq |c_2^Ta_1|\\tag{3}\n",
    "\\end{align}\n",
    "$$\n",
    "\n",
    "Based on (1),(2),(3), we can express $S$ as the following:\n",
    "\n",
    "$$\n",
    "\\begin{align}\n",
    "v_ix&=0,\\quad i=1,\\dots, n-2\\\\\n",
    "c_1^Tx&\\leq |c_1^Ta_2|\\\\\n",
    "-c_1^Tx&\\leq |c_1^Ta_2|\\\\\n",
    "c_2^Tx&\\leq |c_2^Ta_1|\\\\\n",
    "-c_2^Tx&\\leq |c_2^Ta_1|\n",
    "\\end{align}\n",
    "$$"
   ]
  },
  {
   "cell_type": "markdown",
   "id": "1fc2b9be",
   "metadata": {},
   "source": [
    "(2) Yes. $S$ can be express in the following:\n",
    "\n",
    "$$\n",
    "\\begin{align}\n",
    "\\begin{bmatrix}\n",
    "1 & 1 &\\dots & 1\\\\\n",
    "a_1 & a_2 & \\dots &a_n\\\\\n",
    "a_1^2 & a_2^2 & \\dots &a_n^2\n",
    "\\end{bmatrix}\n",
    "\\begin{bmatrix}\n",
    "x_1\\\\\n",
    "\\vdots\\\\\n",
    "x_n\n",
    "\\end{bmatrix}\n",
    "&=\n",
    "\\begin{bmatrix}\n",
    "1\\\\\n",
    "b_1\\\\\n",
    "b_2\n",
    "\\end{bmatrix},\\\\\n",
    "-x_i&\\leq 0.\\quad i=1,\\dots,n\n",
    "\\end{align}\n",
    "$$"
   ]
  },
  {
   "cell_type": "markdown",
   "id": "b6a1d048",
   "metadata": {},
   "source": [
    "(3) no. Since $x^Ty\\leq 1$ for all $y$, it must be less than 1 for $y=x$, hence\n",
    "\n",
    "$$\n",
    "x^Tx=||x||^2\\leq 1.\n",
    "$$\n",
    "\n",
    "On the other hand, if $||x||^2\\leq 1$ when $||y||_2=1$, acoording to Cauchy-Schwarz inequality, \n",
    "\n",
    "$$\n",
    "x^Ty\\leq \\|x\\|\\|y\\|=1.\n",
    "$$\n",
    "\n",
    "Therefore, the set $S$ equals $\\{x\\in\\mathbb{R}^n\\mid x\\succeq 0, \\|x\\|\\leq 1\\}$. It is the intersection of infinite halfspaces (when $n=2$, it is shown by the following figure). From the definition of polyhedron, a polyhedron should be the intersection of **finite** hyperplanes or halfspaces. \n",
    "\n",
    "![circle.png](images/2-1.png)"
   ]
  },
  {
   "cell_type": "markdown",
   "id": "fcbd70cf",
   "metadata": {},
   "source": [
    "(4) yes. The set $S$ is equivalent to:\n",
    "\n",
    "$$\n",
    "|x_i|\\leq 1\\quad i=1,\\dots,n\\\\\n",
    "x_i\\geq 0\\quad i=1,\\dots,n\n",
    "$$\n",
    "\n",
    "To prove it, firstly since $x^Ty\\leq 1$ for all $y$ with $\\sum |y_i|=1$, we can select $y$ that one elment $y_i=1$ or $y_i=-1$ and other elements are all 0,  this leads to $|x_i|\\leq 1, i=1,\\dots,n$.\n",
    "\n",
    "Secondly, if $|x_i|\\leq 1,i=1,\\dots,n$, $x^Ty\\leq \\sum|x_i||y_i|\\leq \\sum |y_i|=1$ with $\\sum |y_i|=1$. Therefore, $S=\\{x\\mid x_i\\geq 0,|x_i|\\leq 1.\\quad i=1,\\dots,n\\}$. It can also be expressed as:\n",
    "\n",
    "$$\n",
    "-x_i\\leq 0,\\quad i=1,\\dots,n\\\\\n",
    "-x_i\\leq 1,\\quad i=1,\\dots,n\n",
    "$$\n"
   ]
  },
  {
   "cell_type": "markdown",
   "id": "0d7ef28f",
   "metadata": {},
   "source": [
    "\n",
    "### Exercise 2.9\n",
    "\n",
    "*Voronoi sets and polyhedral decomposition*. Let $x_0, \\dots, x_K \\in \\mathbb{R}^n$. Consider the set of points that are closer (in Euclidean norm) to $x_0$ than the other $x_i$, i.e.,\n",
    "\n",
    "$$\n",
    "V = \\{x \\in \\mathcal{R}^n \\mid \\|x − x_0\\|_2 \\leq \\|x − x_i\\|_2, i = 1, \\dots, K\\}.\n",
    "$$\n",
    "\n",
    "$V$ is called the Voronoi region around $x_0$ with respect to $x_1, \\dots, x_K$.\n",
    "\n",
    "(a) Show that $V$ is a polyhedron. Express $V$ in the form $V = \\{x \\mid Ax \\preceq b\\}$.\n",
    "\n",
    "(b) Conversely, given a polyhedron $P$ with nonempty interior, show how to find $x_0, \\dots, x_K$ so that the polyhedron is the Voronoi region of $x_0$ with respect to $x_1, \\dots, x_K$.\n",
    "\n",
    "(c) We can also consider the sets\n",
    "\n",
    "$$\n",
    "V_k=\\{x\\in\\mathbb{R}^n\\mid \\|x-x_k\\|_2\\leq \\|x-x_i\\|_2, i\\neq k\\}.\n",
    "$$\n",
    "\n",
    "The set $V_k$ consists of points in $\\mathbb{R}_n$ for which the closest point in the set $\\{x0,\\dots,x_K\\}$\n",
    "is $x_k$.\n",
    "\n",
    "The sets $V_0,\\dots, V_K$ give a polyhedral decomposition of $\\mathbb{R}_n$. More precisely, the sets $V_k$ are polyhedra, $\\bigcup^K_{k=0} V_k = \\mathbb{R}_n$, and $\\textbf{int } V_i\\bigcap\\textbf{int } V_j = \\emptyset$; for $i \\neq j$, i.e., $V_i$ and $V_j$ intersect at most along a boundary.\n",
    "\n",
    "Suppose that $P_1,\\dots,P_m$ are polyhedra such that $\\bigcup^K_{k=0} P_k = \\mathbb{R}_n$, and $\\textbf{int } P_i\\bigcap\\textbf{int } P_j = \\emptyset$; for $i \\neq j$. Can this polyhedral decomposition of $\\mathbb{R}_n$ be described as the Voronoi regions generated by an appropriate set of points?\n",
    "\n",
    "---"
   ]
  },
  {
   "cell_type": "markdown",
   "id": "0e09749f",
   "metadata": {},
   "source": [
    "**solution:**\n",
    "\n",
    "\n",
    "(a) This is similar to Exercise 2.7. The set that is closer to $x_0$ than another point $x_0$ can be expressed as:\n",
    "\n",
    "$$\n",
    "2(x_i-x_0)^Tx\\leq x_i^Tx_i-x_0^Tx_0\n",
    "$$\n",
    "\n",
    "$V$ is the intersection of them. Hence, $V$ can be expressed as: $V=\\{x\\mid A\\preceq b\\}$, in which:\n",
    "\n",
    "$$\n",
    "A=\\begin{bmatrix}\n",
    "2(x_1-x_0)^T\\\\\n",
    "\\vdots\\\\\n",
    "2(x_K-x_0)^T\n",
    "\\end{bmatrix},\n",
    "$$\n",
    "\n",
    "$$\n",
    "b=\\begin{bmatrix}\n",
    "x_1^Tx_i-x_0^Tx_0\\\\\n",
    "\\vdots\\\\\n",
    "x_K^Tx_K-x_0^Tx_0\n",
    "\\end{bmatrix}\n",
    "$$"
   ]
  },
  {
   "cell_type": "markdown",
   "id": "826bf296",
   "metadata": {},
   "source": [
    "(b) $x_0$ can be any feasible point in $P$, while other points can be found from each constraint in $P$. Specifically, for the first constraint:\n",
    "\n",
    "$$\n",
    "a_1^Tx\\leq b_1，\n",
    "$$\n",
    "\n",
    "it is a mirror between $x_0$ and $x_1$. Hence, $x_1$ and $x_0$ satisfies:\n",
    "\n",
    "$$\n",
    "\\begin{align}\n",
    "a_1^Tx_0-b_1&=b_1-a_1^Tx_1\\tag{1},\\\\\n",
    "x_1-x_0&=\\lambda a\\tag{2},\n",
    "\\end{align}\n",
    "$$\n",
    "\n",
    "in which (1) guarantees the two points have same distance with the hyperplane $a_1^T=b_1$ while (2) guarantees the line segment between $x_1$ and $x_0$ is orthonogal to the hyperplane. Therefore, $\\lambda=\\frac{2(b_1-a_1^Tx_0)}{a_1^Ta_1}$ and $x_1=x_0+\\frac{2(b_1-a_1^Tx_0)}{a_1^Ta_1}a$. Other points can be computed in a similar way.\n"
   ]
  },
  {
   "cell_type": "markdown",
   "id": "86832c1d",
   "metadata": {},
   "source": [
    "(3) Let us draw some picture to show this problem."
   ]
  },
  {
   "cell_type": "code",
   "execution_count": 35,
   "id": "7068bb69",
   "metadata": {},
   "outputs": [
    {
     "data": {
      "image/png": "[encoded data removed]",
      "text/plain": [
       "<Figure size 640x480 with 1 Axes>"
      ]
     },
     "metadata": {},
     "output_type": "display_data"
    }
   ],
   "source": [
    "import matplotlib.pyplot as plt\n",
    "import numpy as np\n",
    "\n",
    "plt.scatter(1,2)\n",
    "plt.scatter(2,1)\n",
    "plt.scatter(4,3)\n",
    "plt.text(1.2, 2, r'$x_1$')\n",
    "plt.text(2.2, 0.9, r'$x_2$')\n",
    "plt.text(4.1, 3, r'$x_3$')\n",
    "\n",
    "x_range = np.linspace(0,5, 100)\n",
    "y_range1 = x_range\n",
    "y_range2 = -x_range + 5\n",
    "y_range3 = -3*x_range + 10\n",
    "\n",
    "plt.plot(x_range, y_range1, '--')\n",
    "plt.plot(x_range, y_range2, '--')\n",
    "plt.plot(x_range, y_range3, '--')\n",
    "plt.fill([0, 0, 5, 2.5], [0, 0, 0, 2.5],  alpha=0.5)\n",
    "plt.fill([5, 5/3, 2.5, 5], [5, 5, 2.5, 0],  alpha=0.5)\n",
    "\n",
    "x_range2 = np.linspace(0,2.5, 100)\n",
    "y_range1 = x_range2\n",
    "y_range2 = -x_range2 + 5\n",
    "y_range3 = -3*x_range2 + 10\n",
    "plt.fill_between(x_range2, y_range1, y_range3,  alpha=0.5)\n",
    "\n",
    "plt.xlim(0,5)\n",
    "plt.ylim(0,5)\n",
    "# ax = plt.gca()\n",
    "# ax.set_aspect('equal', adjustable='box')\n",
    "plt.show()"
   ]
  },
  {
   "cell_type": "code",
   "execution_count": 24,
   "id": "6ab6df49",
   "metadata": {},
   "outputs": [
    {
     "data": {
      "text/plain": [
       "array([-2.        , -1.97979798, -1.95959596, -1.93939394, -1.91919192,\n",
       "       -1.8989899 , -1.87878788, -1.85858586, -1.83838384, -1.81818182,\n",
       "       -1.7979798 , -1.77777778, -1.75757576, -1.73737374, -1.71717172,\n",
       "       -1.6969697 , -1.67676768, -1.65656566, -1.63636364, -1.61616162,\n",
       "       -1.5959596 , -1.57575758, -1.55555556, -1.53535354, -1.51515152,\n",
       "       -1.49494949, -1.47474747, -1.45454545, -1.43434343, -1.41414141,\n",
       "       -1.39393939, -1.37373737, -1.35353535, -1.33333333, -1.31313131,\n",
       "       -1.29292929, -1.27272727, -1.25252525, -1.23232323, -1.21212121,\n",
       "       -1.19191919, -1.17171717, -1.15151515, -1.13131313, -1.11111111,\n",
       "       -1.09090909, -1.07070707, -1.05050505, -1.03030303, -1.01010101,\n",
       "       -0.98989899, -0.96969697, -0.94949495, -0.92929293, -0.90909091,\n",
       "       -0.88888889, -0.86868687, -0.84848485, -0.82828283, -0.80808081,\n",
       "       -0.78787879, -0.76767677, -0.74747475, -0.72727273, -0.70707071,\n",
       "       -0.68686869, -0.66666667, -0.64646465, -0.62626263, -0.60606061,\n",
       "       -0.58585859, -0.56565657, -0.54545455, -0.52525253, -0.50505051,\n",
       "       -0.48484848, -0.46464646, -0.44444444, -0.42424242, -0.4040404 ,\n",
       "       -0.38383838, -0.36363636, -0.34343434, -0.32323232, -0.3030303 ,\n",
       "       -0.28282828, -0.26262626, -0.24242424, -0.22222222, -0.2020202 ,\n",
       "       -0.18181818, -0.16161616, -0.14141414, -0.12121212, -0.1010101 ,\n",
       "       -0.08080808, -0.06060606, -0.04040404, -0.02020202,  0.        ])"
      ]
     },
     "execution_count": 24,
     "metadata": {},
     "output_type": "execute_result"
    }
   ],
   "source": [
    "y_range"
   ]
  },
  {
   "cell_type": "code",
   "execution_count": null,
   "id": "b6d21920",
   "metadata": {},
   "outputs": [],
   "source": []
  },
  {
   "cell_type": "code",
   "execution_count": null,
   "id": "b4717f4a",
   "metadata": {},
   "outputs": [],
   "source": []
  },
  {
   "cell_type": "markdown",
   "id": "e5aa78ed",
   "metadata": {},
   "source": [
    "<script src=\"https://giscus.app/client.js\"\n",
    "        data-repo=\"robinchen121/book-Python-Data-Science\"\n",
    "        data-repo-id=\"R_kgDOKFdyOw\"\n",
    "        data-category=\"Announcements\"\n",
    "        data-category-id=\"DIC_kwDOKFdyO84CgWHi\"\n",
    "        data-mapping=\"pathname\"\n",
    "        data-strict=\"0\"\n",
    "        data-reactions-enabled=\"1\"\n",
    "        data-emit-metadata=\"0\"\n",
    "        data-input-position=\"bottom\"\n",
    "        data-theme=\"light\"\n",
    "        data-lang=\"en\"\n",
    "        crossorigin=\"anonymous\"\n",
    "        async>\n",
    "</script>"
   ]
  }
 ],
 "metadata": {
  "kernelspec": {
   "display_name": "Python 3 (ipykernel)",
   "language": "python",
   "name": "python3"
  },
  "language_info": {
   "codemirror_mode": {
    "name": "ipython",
    "version": 3
   },
   "file_extension": ".py",
   "mimetype": "text/x-python",
   "name": "python",
   "nbconvert_exporter": "python",
   "pygments_lexer": "ipython3",
   "version": "3.10.9"
  }
 },
 "nbformat": 4,
 "nbformat_minor": 5
}
