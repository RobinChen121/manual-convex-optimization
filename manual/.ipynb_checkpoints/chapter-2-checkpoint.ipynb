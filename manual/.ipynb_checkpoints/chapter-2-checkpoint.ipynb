{
 "cells": [
  {
   "cell_type": "markdown",
   "id": "6ca50021",
   "metadata": {},
   "source": [
    "# Chapter 2\n",
    "## Exercise 2.1\n",
    "\n",
    "Let $C \\subset \\mathcal{R}^n$ be a convex set, with $x_1, \\dots, x_k \\in C$, and let $\\theta_1, \\dots, \\theta_k \\in \\mathcal{R}$ satisfy $\\theta_i \\geq 0, \\theta_1 + \\dots + \\theta_k = 1$. Show that $\\theta_1x_1 + \\dots + \\theta_kx_k \\in C$. (The definition of convexity is that this holds for $k = 2$; you must show it for arbitrary $k$.) Hint. Use induction on $k$.\n",
    "\n",
    "---\n"
   ]
  },
  {
   "cell_type": "markdown",
   "id": "2700883b",
   "metadata": {},
   "source": [
    "**Solution:**\n",
    "\n",
    "*Proof.*\n",
    "\n",
    "When $k=2$, it is true by the definition of convex set. Assume it is true for $k-1$, now we prove for $k$. For the parameters $\\theta_1,\\dots,\\theta_{k}$, if $\\theta_1=\\dots=\\theta_{k-1}=0$, $\\theta_k=1$ and $\\theta_1x_1 + \\dots + \\theta_kx_k \\in C$. If $\\theta_1+\\dots+\\theta_{k-1}\\neq 0$\n",
    "\n",
    "$$\n",
    "\\theta_1x_1 + \\dots + \\theta_{k-1}x_{k-1}+\\theta_kx_k=(\\theta_1+\\dots+\\theta_{k-1})\\left[\\frac{\\theta_1}{\\theta_1+\\dots+\\theta_{k-1}}x_1+\\dots+\\frac{\\theta_{k-1}}{\\theta_1+\\dots+\\theta_{k-1}}x_{k-1}\\right]+\\theta_{k}x_k\n",
    "$$\n",
    "\n",
    "\n",
    "Because $\\frac{\\theta_1}{\\theta_1+\\dots+\\theta_{k-1}}+\\dots+\\frac{\\theta_{k-1}}{\\theta_1+\\dots+\\theta_{k-1}}=1$ and we assume the property is true for $k-1$, $\\frac{\\theta_1}{\\theta_1+\\dots+\\theta_{k-1}}x_1+\\dots+\\frac{\\theta_{k-1}}{\\theta_1+\\dots+\\theta_{k-1}}x_{k-1}\\in C$ and it is a point inside $C$. We can view the above formula as the convex combination of two points $x_k$ and $\\frac{\\theta_1}{\\theta_1+\\dots+\\theta_{k-1}}x_1+\\dots+\\frac{\\theta_{k-1}}{\\theta_1+\\dots+\\theta_{k-1}}x_{k-1}$, which is inside the convex set $C$."
   ]
  },
  {
   "cell_type": "markdown",
   "id": "22a5c5da",
   "metadata": {},
   "source": [
    "## Exercise 2.2\n",
    "\n",
    "Show that a set is convex if and only if its intersection with any line is convex. Show that a set is affine if and only if its intersection with any line is affine.\n",
    "\n",
    "---"
   ]
  },
  {
   "cell_type": "markdown",
   "id": "d80f271b",
   "metadata": {},
   "source": [
    "**Solution:**\n",
    "\n",
    "*Proof.*\n",
    "\n",
    "A line is a convex set, its intersection with another convex set is also convex. Conversely, suppose the intersection of a set with any line is convex, take any two distinctive points from the set, the intersection of the set with the line through the two points is convex. Therefore the convex combination of the two points belongs to the intersection and also belongs to the set. Hence the set is convex. The second part about affinity can be proved similarly."
   ]
  },
  {
   "cell_type": "markdown",
   "id": "792e14b2",
   "metadata": {},
   "source": [
    "## Exercise 2.3\n",
    "\n",
    "*Midpoint convexity*. A set $C$ is midpoint convex if whenever two points $a$, $b$ are in $C$, the average or midpoint $(a + b)/2$ is in $C$. Obviously a convex set is midpoint convex. It can be proved that under mild conditions midpoint convexity implies convexity. As a simple case, prove that if $C$ is closed and midpoint convex, then $C$ is convex.\n",
    "\n",
    "---"
   ]
  },
  {
   "cell_type": "markdown",
   "id": "7b2a437b",
   "metadata": {},
   "source": [
    "**Solution:**\n",
    "\n",
    "*Proof.*\n",
    "\n",
    "For a point $x$ which is the convex combinatin of $a$ and $b$, withou loss of generality, assume $x$ can be represented as:\n",
    "\n",
    "$$\n",
    "x=\\lambda a+(1-\\lambda)b,\n",
    "$$\n",
    "\n",
    "in which $\\lambda$ is a non-negative rational number. Now we formulate a sequence of $x_i$ (similar to binary search): when $i=0$, $a_0=a$, $b_0=b$, $x_0=(a+b)/2$; when $i>0$,\n",
    "\n",
    "$$\n",
    "a_i=\\begin{cases}\n",
    "x_{i-1}\\quad &x>x_{i-1}\\\\\n",
    "a_{i-1}\\quad &\\text{otherwise}\n",
    "\\end{cases}\n",
    "$$\n",
    "\n",
    "$$\n",
    "b_i=\\begin{cases}\n",
    "b_{i-1}\\quad &x>x_{i-1}\\\\\n",
    "x_{i-1}\\quad &\\text{otherwise}\n",
    "\\end{cases}\n",
    "$$\n",
    "\n",
    "and $x_i=(a_i+b_i)/2$. The sequence of $x_i$ moves closer and closer to $x$ as $i$ increases, i.e., $\\lim_{i\\rightarrow \\infty} x_i=x$. All the $x_i$ are in the set $C$ because of midpoint convexity. Since the set $C$ is close, it contains all its limit points. Hence, $\\lim_{i\\rightarrow \\infty} x_i=x \\in C$ and the convexity of $C$ is proved.\n",
    "\n",
    "$\\Box$"
   ]
  },
  {
   "cell_type": "markdown",
   "id": "b0276a72",
   "metadata": {},
   "source": [
    "```{note}\n",
    "- A set is closed if and only if it contains its limit points.\n",
    "- Rantional number set $\\mathcal{Q}$ is midpoint convex but it is not convex since it is not a closed set.\n",
    "\n",
    "```"
   ]
  },
  {
   "cell_type": "code",
   "execution_count": null,
   "id": "6bad6cb5",
   "metadata": {},
   "outputs": [],
   "source": []
  }
 ],
 "metadata": {
  "kernelspec": {
   "display_name": "Python 3 (ipykernel)",
   "language": "python",
   "name": "python3"
  },
  "language_info": {
   "codemirror_mode": {
    "name": "ipython",
    "version": 3
   },
   "file_extension": ".py",
   "mimetype": "text/x-python",
   "name": "python",
   "nbconvert_exporter": "python",
   "pygments_lexer": "ipython3",
   "version": "3.10.9"
  }
 },
 "nbformat": 4,
 "nbformat_minor": 5
}
