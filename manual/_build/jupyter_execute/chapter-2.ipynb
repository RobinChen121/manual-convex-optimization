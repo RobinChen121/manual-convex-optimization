{
 "cells": [
  {
   "cell_type": "markdown",
   "id": "6ca50021",
   "metadata": {},
   "source": [
    "# Chapter 2\n",
    "\n",
    "## Defintion of convexity\n",
    "\n",
    "### Exercise 2.1\n",
    "\n",
    "Let $C \\subset \\mathbb{R}^n$ be a convex set, with $x_1, \\dots, x_k \\in C$, and let $\\theta_1, \\dots, \\theta_k \\in \\mathbb{R}$ satisfy $\\theta_i \\geq 0, \\theta_1 + \\dots + \\theta_k = 1$. Show that $\\theta_1x_1 + \\dots + \\theta_kx_k \\in C$. (The definition of convexity is that this holds for $k = 2$; you must show it for arbitrary $k$.) Hint. Use induction on $k$.\n",
    "\n",
    "---\n"
   ]
  },
  {
   "cell_type": "markdown",
   "id": "2700883b",
   "metadata": {},
   "source": [
    "**Solution:**\n",
    "\n",
    "*Proof.*\n",
    "\n",
    "When $k=2$, it is true by the definition of convex set. Assume it is true for $k-1$, now we prove for $k$. For the parameters $\\theta_1,\\dots,\\theta_{k}$, if $\\theta_1=\\dots=\\theta_{k-1}=0$, $\\theta_k=1$ and $\\theta_1x_1 + \\dots + \\theta_kx_k \\in C$. If $\\theta_1+\\dots+\\theta_{k-1}\\neq 0$\n",
    "\n",
    "$$\n",
    "\\theta_1x_1 + \\dots + \\theta_{k-1}x_{k-1}+\\theta_kx_k=(\\theta_1+\\dots+\\theta_{k-1})\\left[\\frac{\\theta_1}{\\theta_1+\\dots+\\theta_{k-1}}x_1+\\dots+\\frac{\\theta_{k-1}}{\\theta_1+\\dots+\\theta_{k-1}}x_{k-1}\\right]+\\theta_{k}x_k\n",
    "$$\n",
    "\n",
    "\n",
    "Because $\\frac{\\theta_1}{\\theta_1+\\dots+\\theta_{k-1}}+\\dots+\\frac{\\theta_{k-1}}{\\theta_1+\\dots+\\theta_{k-1}}=1$ and we assume the property is true for $k-1$, $\\frac{\\theta_1}{\\theta_1+\\dots+\\theta_{k-1}}x_1+\\dots+\\frac{\\theta_{k-1}}{\\theta_1+\\dots+\\theta_{k-1}}x_{k-1}\\in C$ and it is a point inside $C$. We can view the above formula as the convex combination of two points $x_k$ and $\\frac{\\theta_1}{\\theta_1+\\dots+\\theta_{k-1}}x_1+\\dots+\\frac{\\theta_{k-1}}{\\theta_1+\\dots+\\theta_{k-1}}x_{k-1}$, which is inside the convex set $C$."
   ]
  },
  {
   "cell_type": "markdown",
   "id": "22a5c5da",
   "metadata": {},
   "source": [
    "### Exercise 2.2\n",
    "\n",
    "Show that a set is convex if and only if its intersection with any line is convex. Show that a set is affine if and only if its intersection with any line is affine.\n",
    "\n",
    "---"
   ]
  },
  {
   "cell_type": "markdown",
   "id": "d80f271b",
   "metadata": {},
   "source": [
    "**Solution:**\n",
    "\n",
    "*Proof.*\n",
    "\n",
    "A line is a convex set, its intersection with another convex set is also convex. Conversely, suppose the intersection of a set with any line is convex, take any two distinctive points from the set, the intersection of the set with the line through the two points is convex. Therefore the convex combination of the two points belongs to the intersection and also belongs to the set. Hence the set is convex. The second part about affinity can be proved similarly."
   ]
  },
  {
   "cell_type": "markdown",
   "id": "792e14b2",
   "metadata": {},
   "source": [
    "### Exercise 2.3\n",
    "\n",
    "*Midpoint convexity*. A set $C$ is midpoint convex if whenever two points $a$, $b$ are in $C$, the average or midpoint $(a + b)/2$ is in $C$. Obviously a convex set is midpoint convex. It can be proved that under mild conditions midpoint convexity implies convexity. As a simple case, prove that if $C$ is closed and midpoint convex, then $C$ is convex.\n",
    "\n",
    "---"
   ]
  },
  {
   "cell_type": "markdown",
   "id": "7b2a437b",
   "metadata": {},
   "source": [
    "**Solution:**\n",
    "\n",
    "*Proof.*\n",
    "\n",
    "For a point $x$ which is the convex combinatin of $a$ and $b$, withou loss of generality, assume $x$ can be represented as:\n",
    "\n",
    "$$\n",
    "x=\\lambda a+(1-\\lambda)b,\n",
    "$$\n",
    "\n",
    "in which $\\lambda$ is a non-negative rational number. Now we formulate a sequence of $x_i$ (similar to binary search): when $i=0$, $a_0=a$, $b_0=b$, $x_0=(a+b)/2$; when $i>0$,\n",
    "\n",
    "$$\n",
    "a_i=\\begin{cases}\n",
    "x_{i-1}\\quad &x>x_{i-1}\\\\\n",
    "a_{i-1}\\quad &\\text{otherwise}\n",
    "\\end{cases}\n",
    "$$\n",
    "\n",
    "$$\n",
    "b_i=\\begin{cases}\n",
    "b_{i-1}\\quad &x>x_{i-1}\\\\\n",
    "x_{i-1}\\quad &\\text{otherwise}\n",
    "\\end{cases}\n",
    "$$\n",
    "\n",
    "and $x_i=(a_i+b_i)/2$. The sequence of $x_i$ moves closer and closer to $x$ as $i$ increases, i.e., $\\lim_{i\\rightarrow \\infty} x_i=x$. All the $x_i$ are in the set $C$ because of midpoint convexity. Since the set $C$ is close, it contains all its limit points. Hence, $\\lim_{i\\rightarrow \\infty} x_i=x \\in C$ and the convexity of $C$ is proved.\n",
    "\n",
    "$\\Box$"
   ]
  },
  {
   "cell_type": "markdown",
   "id": "b0276a72",
   "metadata": {},
   "source": [
    "```{note}\n",
    "- A set is closed if and only if it contains its limit points.\n",
    "- Rantional number set $\\mathbb{Q}$ is midpoint convex but it is not convex since it is not a closed set.\n",
    "\n",
    "```"
   ]
  },
  {
   "cell_type": "markdown",
   "id": "cc762ae0",
   "metadata": {},
   "source": [
    "### Exercise 2.4\n",
    "\n",
    "Show that the convex hull of a set $S$ is the intersection of all convex sets that contain $S$. (The same method can be used to show that the conic, or affine, or linear hull of a set $S$ is the intersection of all conic sets, or affine sets, or subspaces that contain $S$.)\n",
    "\n",
    "---"
   ]
  },
  {
   "cell_type": "markdown",
   "id": "3e0f4afa",
   "metadata": {},
   "source": [
    "**Solution:**\n",
    "\n",
    "*Proof.*\n",
    "\n",
    "Let $H$ be the convex hull of $S$ and $\\mathcal{D}$ be the intersection of all convex sets that contains $S$,i.e,\n",
    "\n",
    "$$\n",
    "\\mathcal{D}=\\bigcap\\{D\\text{ is convex}, S \\subseteq D\\}.\n",
    "$$\n",
    "\n",
    "In order to prove that $H=\\mathcal{D}$, we show that $H\\subseteq\\mathcal{D}$ and $\\mathcal{D}\\subseteq H$.\n",
    "\n",
    "Suppose $x$ is a point in $H$, i.e., $x$ is a convex combination of some points $x_1,\\dots,x_k$ in $S$:\n",
    "\n",
    "$$\n",
    "x=\\theta_1x_1+\\dots+\\theta_kx_k,\n",
    "$$\n",
    "\n",
    "in which $\\theta_1+\\dots+\\theta_k=1$ and $\\theta_i\\geq 0$ $(i=1,\\dots,k)$. Since any $D$ contains $S$, $x_1,\\dots,x_k$ must be in $D$. Since $D$ is convex, all the covex combinations of its points are also in $D$, i.e., $x\\in D$. Hence, any point in $H$ is also in any $D$. So, $H\\subseteq \\mathcal{D}$.\n",
    "\n",
    "Now we prove $\\mathcal{D}\\subseteq H$. Since $H$ is a one of the convex set that contains $S$ and $\\mathcal{D}$ is the intersection of all convex sets that contains $S$, obviously $\\mathcal{D}\\subseteq H$.\n",
    "\n",
    "Therefore, $H=\\mathcal{D}$.\n",
    "\n",
    "$\\Box$"
   ]
  },
  {
   "cell_type": "markdown",
   "id": "c7a3e983",
   "metadata": {},
   "source": [
    "```{note}\n",
    "- The conic hull is similar to the convex hull, but the parameters $\\theta_i$ are only required to be non-negative.\n",
    "- The linear hull (also called linear span) only requires the parameters $\\theta_i$ to be rational.\n",
    "```\n"
   ]
  },
  {
   "cell_type": "markdown",
   "id": "33136a2b",
   "metadata": {},
   "source": [
    "## Examples\n",
    "### Exercise 2.5\n",
    "\n",
    "What is the distance between two parallel hyperplanes $\\{x \\in \\mathbb{R}^n \\mid a^Tx = b_1\\}$ and $\\{x\\in\\mathbb{R}^n \\mid a^Tx = b_2\\}$?\n",
    "\n",
    "---"
   ]
  },
  {
   "cell_type": "markdown",
   "id": "f20b385f",
   "metadata": {},
   "source": [
    "**Solution:**\n",
    "\n",
    "The distance is $\\frac{|b_1-b_2|}{||a||}$. (it is a distance between two point $\\frac{b_1}{||a||^2}a$ and $\\frac{b_2}{||a||^2}a$)"
   ]
  },
  {
   "cell_type": "markdown",
   "id": "8802691b",
   "metadata": {},
   "source": [
    "```{note}\n",
    "- the intersection point of the line $a^Tx=b$ with its perpendicular line that though the origin is $\\frac{b}{||a||^2}a$.\n",
    "- For the line $a^Tx=b$, its direction vector is $a$.\n",
    "```"
   ]
  },
  {
   "cell_type": "markdown",
   "id": "238570b8",
   "metadata": {},
   "source": [
    "### Exercise 2.6\n",
    "\n",
    "*When does one halfspace contain another?* Give conditions under which\n",
    "\n",
    "$$\n",
    "\\{x \\mid a^Tx \\geq b\\}\\subseteq \\{x\\mid \\tilde{a}^Tx\\geq \\tilde{b}\\}\n",
    "$$\n",
    "\n",
    "(where $a \\neq 0, \\tilde{a} \\neq 0$). Also find the conditions under which the two halfspaces are equal.\n",
    "\n",
    "---"
   ]
  },
  {
   "cell_type": "markdown",
   "id": "28228740",
   "metadata": {},
   "source": [
    "**Solution:**\n",
    "\n",
    "The conditions are:\n",
    "\n",
    "- if $\\frac{a}{||a||}=\\frac{\\tilde{a}}{||\\tilde{a}||}$ and $\\frac{b}{||a||}=\\frac{\\tilde{b}}{||\\tilde{a}||}$, then the two halfspaces are equal.\n",
    "\n",
    "- if $\\frac{a}{||a||}=\\frac{\\tilde{a}}{||\\tilde{a}||}$ and $\\frac{b}{||a||}\\geq\\frac{\\tilde{b}}{||\\tilde{a}||}$, then the latter halfspaces contains the first halfspace."
   ]
  },
  {
   "cell_type": "markdown",
   "id": "543cfbfc",
   "metadata": {},
   "source": [
    "### Exercise 2.7\n",
    "\n",
    "*Voronoi description of halfspace*. Let $a$ and $b$ be distinct points in $\\mathbb{R}^n$. Show that the set of all points that are closer (in Euclidean norm) to $a$ than $b$, i.e., $\\{x \\mid ||x−a||_2 \\leq ||x−b||_2\\}$, is a halfspace. Describe it explicitly as an inequality of the form $c^Tx\\leq d$. Draw a picture.\n",
    "\n",
    "---"
   ]
  },
  {
   "cell_type": "markdown",
   "id": "9acbcf00",
   "metadata": {},
   "source": [
    "**Solution:**\n",
    "\n",
    "Solution 1: the midpoint of $a$ and $b$ is $(a+b)/2$, the hyperplane that is orthogonal to the vector $b-a$ is:\n",
    "\n",
    "$$\n",
    "(b-a)^Tx=\\frac{(b-a)^T(b+a)}{2}=\\frac{b^Tb-a^Ta}{2}.\n",
    "$$\n",
    "\n",
    "So the halfspace is:\n",
    "\n",
    "$$\n",
    "(b-a)^Tx=\\frac{(b-a)^T(b+a)}{2}\\leq\\frac{b^Tb-a^Ta}{2}.\n",
    "$$\n",
    "\n",
    "Solution 2:\n",
    "\n",
    "$$\n",
    "\\begin{align}\n",
    "&||x−a||_2 \\leq ||x−b||_2\\\\\n",
    "\\Longleftrightarrow&~ (x-a)^T(x-a)\\leq (x-b)^T(x-b)\\\\\n",
    "\\Longleftrightarrow&~ x^Tx-2x^Ta+a^Ta\\leq x^Tx-2x^Tb+b^Tb\\\\\n",
    "\\Longleftrightarrow&~ 2(b-a)^Tx \\leq b^Tb-a^Ta\n",
    "\\end{align}\n",
    "$$"
   ]
  },
  {
   "cell_type": "markdown",
   "id": "f4448a16",
   "metadata": {},
   "source": [
    "### Exercise 2.8\n",
    "\n",
    "Which of the following sets $S$ are polyhedra? If possible, express $S$ in the form $S =\\{x \\mid Ax \\preceq b, F x = g\\}$.\n",
    "\n",
    "(a) $S = \\{y_1a_1 + y_2a_2 \\mid − 1 \\leq y_1 \\leq 1, − 1 \\leq y_2 \\leq 1\\}$, where $a_1,a_2 \\in\\mathbb{R}^n$.\n",
    "\n",
    "(b) $S =\\{x \\in \\mathbb{R}^n \\mid x \\succeq 0, \\mathbf{1}^Tx = 1, \\sum^n_{i=1}x_ia_i = b_1, \\sum^n_{i=1} x_ia^2_i = b_2\\}$, where\n",
    "$a_1, \\dots, a_n\\in \\mathbb{R}$ and $b_1, b_2 \\in \\mathbb{R}$.\n",
    "\n",
    "(c) $S = \\{x \\in \\mathbb{R}^n \\mid x \\succeq 0, x^Ty \\leq 1\\text{ for all }$y$\\text{ with }||y||_2 = 1\\}$.\n",
    "\n",
    "(d) $S = \\{x ∈ \\mathbb{R}^n \\mid x \\succeq 0, x^Ty \\leq 1\\text{ for all }$y$\\text{ with }\\sum_{i=1}^n |y_i| = 1\\}$.\n",
    "\n",
    "---"
   ]
  },
  {
   "cell_type": "markdown",
   "id": "4d00ffae",
   "metadata": {},
   "source": [
    "**Solution:**\n",
    "\n",
    "(a) $S$ is a polyhedron. It is actually a parallelogram in which the corner points are $a_1+a_2$, $a_1-a_2$, $-a_1+a_2$, $-a_1-a_2$.\n",
    "\n",
    "Below we use Python to draw the parallelogram in $\\mathbb{R}^2$, in which $c_1$ is orthogonal to $a_1$ and $c_2$ is orthogonal to $a_2$."
   ]
  },
  {
   "cell_type": "code",
   "execution_count": 1,
   "id": "7399391c",
   "metadata": {},
   "outputs": [
    {
     "data": {
      "image/png": "[encoded data removed]",
      "text/plain": [
       "<Figure size 640x480 with 1 Axes>"
      ]
     },
     "metadata": {},
     "output_type": "display_data"
    }
   ],
   "source": [
    "import matplotlib.pyplot as plt\n",
    "plt.rcParams.update({\"font.family\": \"serif\"})\n",
    "\n",
    "plt.arrow(2, 3, 4, 5, color='k', width=0.03, length_includes_head = True) # a1\n",
    "plt.plot([9,13],[5,10], 'k')\n",
    "plt.arrow(2, 3, 7, 2, color='k', width=0.03, length_includes_head = True) # a2\n",
    "plt.plot([6,13],[8,10], 'k')\n",
    "\n",
    "plt.arrow(2,3,-1, 7/2, color= 'r', width=0.03)\n",
    "plt.arrow(2,3,-2, 8/5, color= 'r', width=0.03)\n",
    "\n",
    "plt.text(4, 6.5, r'$a_1$')\n",
    "plt.text(6, 3.5, r'$a_2$')\n",
    "plt.text(1.7, 5.5, r'$c_2$')\n",
    "plt.text(0.8, 3.2, r'$c_1$')\n",
    "plt.text(6.8, 6, r'$S$')\n",
    "\n",
    "plt.axis('off')\n",
    "plt.axis('equal')\n",
    "plt.show()"
   ]
  },
  {
   "cell_type": "markdown",
   "id": "2ae1ae8e",
   "metadata": {},
   "source": [
    "Now let us express $S$ by linear constraints.$S$ is the intersection of several sets:\n",
    "\n",
    "(1) the plane formulated by $a_1$ and $a_2$."
   ]
  },
  {
   "cell_type": "code",
   "execution_count": null,
   "id": "342cf786",
   "metadata": {},
   "outputs": [],
   "source": []
  }
 ],
 "metadata": {
  "kernelspec": {
   "display_name": "Python 3 (ipykernel)",
   "language": "python",
   "name": "python3"
  },
  "language_info": {
   "codemirror_mode": {
    "name": "ipython",
    "version": 3
   },
   "file_extension": ".py",
   "mimetype": "text/x-python",
   "name": "python",
   "nbconvert_exporter": "python",
   "pygments_lexer": "ipython3",
   "version": "3.10.9"
  }
 },
 "nbformat": 4,
 "nbformat_minor": 5
}