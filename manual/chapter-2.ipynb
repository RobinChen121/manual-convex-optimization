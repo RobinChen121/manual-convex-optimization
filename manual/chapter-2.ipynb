{
 "cells": [
  {
   "cell_type": "markdown",
   "id": "6ca50021",
   "metadata": {},
   "source": [
    "# Chapter 2\n",
    "## Exercise 2.1\n",
    "\n",
    "For each one of the following sets, determine whether it is a polyhedron.\n",
    "\n",
    "(a) The set of all $(x, y)\\in \\mathcal{R}^2$ satisfying the constraints:\n",
    "\n",
    "$$\n",
    "\\begin{aligned}\n",
    "x\\cos\\theta+y\\sin\\theta&\\leq 1,\\quad \\forall~\\theta \\in[0, \\pi/2],\\\\\n",
    "x&\\geq 0,\\\\\n",
    "y&\\geq 0.\n",
    "\\end{aligned}\n",
    "$$\n",
    "\n",
    "(b) The set of all $x\\in\\mathcal{R}$ satisfying the constraint $x^2 - 8x + 15 \\leq 0$.\n",
    "\n",
    "(c) The empty set.\n",
    "\n",
    "---\n",
    "**Solution:**\n",
    "\n",
    "(a) The set equals $\\{ (x,y) | x \\geq 0, y \\geq 0, x^2 + y^2 \\leq 1 \\}$, which has the following image:"
   ]
  },
  {
   "cell_type": "code",
   "execution_count": null,
   "id": "1d9eeb2c",
   "metadata": {},
   "outputs": [],
   "source": []
  }
 ],
 "metadata": {
  "kernelspec": {
   "display_name": "Python 3 (ipykernel)",
   "language": "python",
   "name": "python3"
  },
  "language_info": {
   "codemirror_mode": {
    "name": "ipython",
    "version": 3
   },
   "file_extension": ".py",
   "mimetype": "text/x-python",
   "name": "python",
   "nbconvert_exporter": "python",
   "pygments_lexer": "ipython3",
   "version": "3.10.9"
  }
 },
 "nbformat": 4,
 "nbformat_minor": 5
}
